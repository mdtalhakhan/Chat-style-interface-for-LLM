{
 "cells": [
  {
   "cell_type": "code",
   "execution_count": 1,
   "id": "8f378a50-6d92-4892-a796-9027baaca92e",
   "metadata": {},
   "outputs": [],
   "source": [
    "import os\n",
    "from dotenv import load_dotenv\n",
    "from openai import OpenAI\n",
    "import gradio as gr"
   ]
  },
  {
   "cell_type": "code",
   "execution_count": 2,
   "id": "93bd4ac6-ac2f-4c84-80a2-211d1d76830a",
   "metadata": {},
   "outputs": [
    {
     "name": "stdout",
     "output_type": "stream",
     "text": [
      "OpenAI API Key exists sk-proj-***\n"
     ]
    }
   ],
   "source": [
    "load_dotenv()\n",
    "openai_api_key = os.getenv('OPENAI_API_KEY')\n",
    "\n",
    "\n",
    "if openai_api_key:\n",
    "    print(f\"OpenAI API Key exists {openai_api_key[:8]}***\")\n",
    "else:\n",
    "    print(\"Key invalid\")\n"
   ]
  },
  {
   "cell_type": "code",
   "execution_count": 13,
   "id": "8d44e789-6b79-4db6-8d47-4c237f444d4d",
   "metadata": {},
   "outputs": [],
   "source": [
    "openai = OpenAI()\n",
    "MODEL = 'gpt-4o-mini'"
   ]
  },
  {
   "cell_type": "code",
   "execution_count": 4,
   "id": "6193d468-95c1-4b86-96e7-97d5f21208c4",
   "metadata": {},
   "outputs": [],
   "source": [
    "system_message = \"you are a smart helpful asistant.\""
   ]
  },
  {
   "cell_type": "code",
   "execution_count": 10,
   "id": "94036293-26f9-4008-9fab-1dc7221d73a4",
   "metadata": {},
   "outputs": [],
   "source": [
    "#writing a function that is going to take messages and history and turn them into a format that can be passed to openai\n",
    "# we do this because everytime a new question is asked, the entiree chat history has to to be passed as input to gpt agian, this creates an illlysion of memory but the model doesnt have an actual memory if the cniversation\n",
    "\n",
    "def chat(message, history):\n",
    "    messages = [\n",
    "        {\"role\":\"system\", 'content':system_message}\n",
    "    ] + history + [\n",
    "        {'role':'user', 'content': message}\n",
    "    ]\n",
    "\n",
    "    #to understand what is happening i am using print statements\n",
    "    print(\"history --->\", history)\n",
    "    print(\"messages --->\", messages)\n",
    "\n",
    "    stream = openai.chat.completions.create(\n",
    "        model = MODEL,\n",
    "        messages=messages,\n",
    "        stream=True\n",
    "    )\n",
    "\n",
    "    response=''\n",
    "\n",
    "\n",
    "    for chunk in stream:\n",
    "        response += chunk.choices[0]. delta.content or ''\n",
    "        yield response "
   ]
  },
  {
   "cell_type": "code",
   "execution_count": 11,
   "id": "17da354d-02b8-4641-9272-a62d3c94744f",
   "metadata": {},
   "outputs": [],
   "source": [
    "#building a chat ui using gradio\n",
    "import gradio as gr \n"
   ]
  },
  {
   "cell_type": "code",
   "execution_count": 14,
   "id": "3a437e31-2b09-4de2-bc7b-60036d63ce89",
   "metadata": {
    "scrolled": true
   },
   "outputs": [
    {
     "name": "stdout",
     "output_type": "stream",
     "text": [
      "* Running on local URL:  http://127.0.0.1:7862\n",
      "\n",
      "To create a public link, set `share=True` in `launch()`.\n"
     ]
    },
    {
     "data": {
      "text/html": [
       "<div><iframe src=\"http://127.0.0.1:7862/\" width=\"100%\" height=\"500\" allow=\"autoplay; camera; microphone; clipboard-read; clipboard-write;\" frameborder=\"0\" allowfullscreen></iframe></div>"
      ],
      "text/plain": [
       "<IPython.core.display.HTML object>"
      ]
     },
     "metadata": {},
     "output_type": "display_data"
    },
    {
     "name": "stdout",
     "output_type": "stream",
     "text": [
      "history ---> []\n",
      "messages ---> [{'role': 'system', 'content': 'you are a smart helpful asistant.'}, {'role': 'user', 'content': 'ui= gr.ChatInterface(fn= chat, type=\\'messages\\').launch(pwa=True)\\nwhat is the \"type\" attribute in this line and what other types of values can it take?\\nalso tell me what the pwa at the end stands for'}]\n"
     ]
    }
   ],
   "source": [
    "ui= gr.ChatInterface(fn= chat, type='messages').launch(pwa=True)"
   ]
  },
  {
   "cell_type": "code",
   "execution_count": null,
   "id": "5ddd88b5-6ef2-4662-addc-af39da46486c",
   "metadata": {},
   "outputs": [],
   "source": []
  }
 ],
 "metadata": {
  "kernelspec": {
   "display_name": "Python 3 (ipykernel)",
   "language": "python",
   "name": "python3"
  },
  "language_info": {
   "codemirror_mode": {
    "name": "ipython",
    "version": 3
   },
   "file_extension": ".py",
   "mimetype": "text/x-python",
   "name": "python",
   "nbconvert_exporter": "python",
   "pygments_lexer": "ipython3",
   "version": "3.11.9"
  }
 },
 "nbformat": 4,
 "nbformat_minor": 5
}
